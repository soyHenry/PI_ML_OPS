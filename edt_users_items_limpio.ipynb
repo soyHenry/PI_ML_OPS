{
 "cells": [
  {
   "cell_type": "code",
   "execution_count": null,
   "metadata": {},
   "outputs": [],
   "source": [
    "# archivo \"C:\\Users\\Usuario\\Henry\\PI01MLOPnuevo\\users_items.json.gz\""
   ]
  },
  {
   "cell_type": "code",
   "execution_count": null,
   "metadata": {},
   "outputs": [],
   "source": [
    "!pip install pandas pyarrow\n",
    "\n",
    "# Dado que el archivo es demasiado grande pasare los datos a Paquet"
   ]
  },
  {
   "cell_type": "code",
   "execution_count": 1,
   "metadata": {},
   "outputs": [],
   "source": [
    "import json\n",
    "import pandas as pd\n",
    "import gzip\n",
    "import ast\n",
    "from datetime import datetime\n"
   ]
  },
  {
   "cell_type": "code",
   "execution_count": 2,
   "metadata": {},
   "outputs": [],
   "source": [
    "# Desarrollo función leer_Json_gzip() que lee los archivos 'comprimidos.json.gz` y devuelve una lista de diccionarios Python.\n",
    "def leer_json_gzip(users_items):\n",
    "\n",
    "    # Abrir el archivo users_items.json.gz en modo de lectura y decodificamos el contenido del archivo.\n",
    "    with gzip.open(users_items, 'rt', encoding='utf-8') as miArchivo:\n",
    "\n",
    "        # Recorremos el contenido del archivo y evaluamos cada línea como una expresión Python.\n",
    "        # El resultado de la evaluación es un diccionario Python.\n",
    "        # La función strip() elimina los espacios en blanco al principio y al final de la línea.\n",
    "        return [ast.literal_eval(line.strip()) for line in miArchivo]\n",
    "    #Usamos ast.literal_eval para convertir cada linea en un diccionario y lo agregamos a la lista"
   ]
  },
  {
   "cell_type": "code",
   "execution_count": 3,
   "metadata": {},
   "outputs": [],
   "source": [
    "  def abrir_archivo_comprimido(nombre_archivo='users_items.json.gz'):  \n",
    "     try:\n",
    "        with gzip.open('users_items','rt', encoding='utf-8') as archivo_comprimido:\n",
    "           datos=  json.load(archivo_comprimido)\n",
    "            # Convierto los datos JSON en un DataFrame de Pandas\n",
    "           \n",
    "        return dataframe\n",
    "       \n",
    "\n",
    "       # Añado un bloque try y except para manejar excepciones como FileNotFoundError y otros errores que puedan ocurrir al abrir el archivo.\n",
    "\n",
    "     except FileNotFoundError:\n",
    "        print(f\"El archivo '{users_items}' no se encontró.\")\n",
    "     except Exception   as e:\n",
    "        print(f\"Error al abrir el archivo comprimido: {str(e)}\")\n",
    "  \n",
    "  # Llamada a la función para cargar el archivo comprimido  en un dataframe  DataFrame"
   ]
  },
  {
   "cell_type": "code",
   "execution_count": null,
   "metadata": {},
   "outputs": [],
   "source": [
    "datos_users_items = []\n",
    "for i  in gzip.open('users_items.json.gz'):\n",
    "    datos_users_items.append(ast.literal_eval(i.decode('utf-8')))\n",
    "\n",
    "DataFrame_users_items = pd.DataFrame(datos_users_items)\n",
    "\n",
    "DataFrame_users_items"
   ]
  },
  {
   "cell_type": "code",
   "execution_count": 5,
   "metadata": {},
   "outputs": [],
   "source": [
    "DataFrame_users_items.to_parquet('users_items.parquet', engine='pyarrow')"
   ]
  },
  {
   "cell_type": "code",
   "execution_count": null,
   "metadata": {},
   "outputs": [],
   "source": [
    "DataFrame_users_items"
   ]
  },
  {
   "cell_type": "code",
   "execution_count": 7,
   "metadata": {},
   "outputs": [],
   "source": [
    "DataFrame_users_items_exploded = DataFrame_users_items.explode('items')"
   ]
  },
  {
   "cell_type": "code",
   "execution_count": 8,
   "metadata": {},
   "outputs": [],
   "source": [
    "# Normalizo los datos y creo un nuevo data frame desanidado\n",
    "DataFrame_users_items_desanidado = pd.json_normalize(DataFrame_users_items_exploded['items'].dropna())"
   ]
  },
  {
   "cell_type": "code",
   "execution_count": null,
   "metadata": {},
   "outputs": [],
   "source": [
    "DataFrame_users_items_desanidado"
   ]
  },
  {
   "cell_type": "code",
   "execution_count": 10,
   "metadata": {},
   "outputs": [],
   "source": [
    "# Volver a indexar\n",
    "DataFrame_users_items_desanidado.reset_index(inplace=True)\n",
    "DataFrame_users_items_exploded.reset_index(inplace=True)"
   ]
  },
  {
   "cell_type": "code",
   "execution_count": 11,
   "metadata": {},
   "outputs": [],
   "source": [
    "#  Concateno Data Frames y borro columna original items\n",
    "user_items_limpio = pd.concat([DataFrame_users_items_exploded, DataFrame_users_items_desanidado], axis=1)\n"
   ]
  },
  {
   "cell_type": "code",
   "execution_count": null,
   "metadata": {},
   "outputs": [],
   "source": [
    "user_items_limpio"
   ]
  },
  {
   "cell_type": "markdown",
   "metadata": {},
   "source": [
    "Ahora guardo el DataFrame en csv listo para la función"
   ]
  },
  {
   "cell_type": "code",
   "execution_count": 13,
   "metadata": {},
   "outputs": [],
   "source": [
    "user_items_limpio.to_csv('df_user_items_final.csv', index=False)"
   ]
  }
 ],
 "metadata": {
  "kernelspec": {
   "display_name": "Python 3",
   "language": "python",
   "name": "python3"
  },
  "language_info": {
   "codemirror_mode": {
    "name": "ipython",
    "version": 3
   },
   "file_extension": ".py",
   "mimetype": "text/x-python",
   "name": "python",
   "nbconvert_exporter": "python",
   "pygments_lexer": "ipython3",
   "version": "3.11.1"
  }
 },
 "nbformat": 4,
 "nbformat_minor": 2
}
