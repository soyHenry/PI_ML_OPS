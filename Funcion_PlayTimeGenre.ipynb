{
 "cells": [
  {
   "cell_type": "code",
   "execution_count": null,
   "metadata": {},
   "outputs": [],
   "source": [
    "pip install pandas pyarrow"
   ]
  },
  {
   "cell_type": "code",
   "execution_count": 2,
   "metadata": {},
   "outputs": [],
   "source": [
    "import json\n",
    "import pandas as pd\n",
    "import gzip\n",
    "import ast\n",
    "from datetime import datetime"
   ]
  },
  {
   "cell_type": "markdown",
   "metadata": {},
   "source": [
    "1. especificar ruta archivos ruta_archivo = 'ruta/del/archivo.json'\n",
    "2. en json se lee asi: datos = pd.read_json(ruta_archivo)\n",
    "3. en parquet df = pd.read_parquet(ruta_archivo_parquet)"
   ]
  },
  {
   "cell_type": "code",
   "execution_count": 3,
   "metadata": {},
   "outputs": [],
   "source": [
    "#Los dos archivos que se utililizaran para la función son:\n",
    "# \"C:\\Users\\Usuario\\Henry\\Henry-PI01ML\\Repositorio-PI1ML\\df_users_items.json\"\n",
    "# \"C:\\Users\\Usuario\\Henry\\Henry-PI01ML\\Repositorio-PI1ML\\df_steam_games.json\"\n"
   ]
  },
  {
   "cell_type": "code",
   "execution_count": 3,
   "metadata": {},
   "outputs": [],
   "source": [
    "# Primero abro df_user_items\n",
    "\n",
    "df_users_items = pd.read_json(\"df_users_items.json\")\n"
   ]
  },
  {
   "cell_type": "code",
   "execution_count": null,
   "metadata": {},
   "outputs": [],
   "source": [
    "df_users_items.info()"
   ]
  },
  {
   "cell_type": "code",
   "execution_count": 6,
   "metadata": {},
   "outputs": [],
   "source": [
    "#Borro las filas que tengan en la fila playtime forever 0 por que no agregan valor"
   ]
  },
  {
   "cell_type": "code",
   "execution_count": 7,
   "metadata": {},
   "outputs": [],
   "source": [
    "# Borrare todas las filas donde play time sea o\n",
    "\n",
    "# condicion = \n",
    "\n",
    "#df_users_items = df_users_items.drop(df_users_items[(df_users_items['playtime_forever'] == 0)].index)\n",
    "\n"
   ]
  },
  {
   "cell_type": "code",
   "execution_count": null,
   "metadata": {},
   "outputs": [],
   "source": [
    "df_users_items.info()"
   ]
  },
  {
   "cell_type": "code",
   "execution_count": 7,
   "metadata": {},
   "outputs": [
    {
     "data": {
      "text/plain": [
       "pandas.core.frame.DataFrame"
      ]
     },
     "execution_count": 7,
     "metadata": {},
     "output_type": "execute_result"
    }
   ],
   "source": [
    "clase_df_users_items = type(df_users_items)\n",
    "clase_df_users_items"
   ]
  },
  {
   "cell_type": "code",
   "execution_count": 10,
   "metadata": {},
   "outputs": [],
   "source": [
    "# Cambio la clase porque no me permite el merge"
   ]
  },
  {
   "cell_type": "code",
   "execution_count": 8,
   "metadata": {},
   "outputs": [],
   "source": [
    "#Segundo abro df_steam_games.json \n",
    "df_steam_games = pd.read_json(\"df_steam_games.json\")"
   ]
  },
  {
   "cell_type": "code",
   "execution_count": null,
   "metadata": {},
   "outputs": [],
   "source": [
    "df_steam_games"
   ]
  },
  {
   "cell_type": "markdown",
   "metadata": {},
   "source": [
    "Trato de vincular  las etiquetas de columna df_steam_games_sinnulos_Exploded con la columna DataFrame_users_items_desanidado item_name usando  Pandas.\n",
    "\n",
    "Me doy cuenta que el contenido de la columna app_name en streams es el mismo que item_name en user_items así que a travez de esa columna hago el merge\n",
    "\n",
    "Entonces creo la fusion usando merge así: merged_df = df1.merge(df2, on='app_name', how='inner')\n",
    "\n",
    "En este caso tenemos dos Data Frames  de datos que se entrelazan con dos nombres de columnas diferentes. \n",
    "\n",
    "merged_df = df1.merge(df2, left_on='titapp_namele', right_on='item', how='inner'), donde 'app_name' es una columna en df1 y el item_name está en el dataframe df2.\n",
    "\n",
    "entonces creo  un nuevo data frame que une 2 data frames  usando dos nombres de campo:"
   ]
  },
  {
   "cell_type": "code",
   "execution_count": 10,
   "metadata": {},
   "outputs": [],
   "source": [
    "#Hago merge de las dos df anteriores \n",
    "\n",
    "PlayTimeGenre_df = df_steam_games.merge(df_users_items, left_on='app_name', right_on='item_name', how='inner')"
   ]
  },
  {
   "cell_type": "markdown",
   "metadata": {},
   "source": [
    "Este cambio lo hice hoy 3"
   ]
  },
  {
   "cell_type": "code",
   "execution_count": 11,
   "metadata": {},
   "outputs": [],
   "source": [
    "# aca defino la función según la consigna, en este caso es la función1\n",
    "\n",
    "def PlayTimeGenre(PlayTimeGenre_df, genre):\n",
    "\n",
    "    # Filtrar el DataFrame para incluir solo filas con el género especificado con tags que tiene la misma información de genres\n",
    "\n",
    "    genre_df = PlayTimeGenre_df[PlayTimeGenre_df['genres'] == genre]\n",
    "\n",
    "    if genre_df.empty:\n",
    "        return \"No hay datos para este genero.\"\n",
    "\n",
    "    # Se agrupa el DataFrame filtrado por 'año_lanzamiento' y busque el año con el tiempo de reproducción máximo\n",
    "\n",
    "    max_playtime_year = genre_df.groupby('release_year')['playtime_forever'].sum().idxmax()\n",
    "\n",
    "    return max_playtime_year"
   ]
  },
  {
   "cell_type": "code",
   "execution_count": 12,
   "metadata": {},
   "outputs": [
    {
     "name": "stdout",
     "output_type": "stream",
     "text": [
      "El año con la mayor cantidad de horas jugadas de Free to Play es 2013\n"
     ]
    }
   ],
   "source": [
    "genres = \"Free to Play\"  # Se ppuede reemplazar con el género que se desea consultar\n",
    "year_with_max_playtime = PlayTimeGenre(PlayTimeGenre_df, genres)\n",
    "print(f\"El año con la mayor cantidad de horas jugadas de {genres} es {year_with_max_playtime}\")\n"
   ]
  }
 ],
 "metadata": {
  "kernelspec": {
   "display_name": "Python 3",
   "language": "python",
   "name": "python3"
  },
  "language_info": {
   "codemirror_mode": {
    "name": "ipython",
    "version": 3
   },
   "file_extension": ".py",
   "mimetype": "text/x-python",
   "name": "python",
   "nbconvert_exporter": "python",
   "pygments_lexer": "ipython3",
   "version": "3.11.1"
  }
 },
 "nbformat": 4,
 "nbformat_minor": 2
}
