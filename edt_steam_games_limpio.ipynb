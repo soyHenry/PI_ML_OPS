{
 "cells": [
  {
   "cell_type": "markdown",
   "metadata": {},
   "source": [
    "La primera tarea es la extracción osea dejar los datos a la vista para eso debo hace una función.\n",
    "el primer archivo esta en Json y esta comprimido extension GZ. busco en chat gpt como se abren archivos extension .json.gz\n",
    "\n",
    "La dirección del archivo que quiero extraer es\n",
    "\"C:\\Users\\Usuario\\Henry\\PI01MLOPnuevo\\Dataset Original\\steam_games.json.gz\"\n"
   ]
  },
  {
   "cell_type": "code",
   "execution_count": 1,
   "metadata": {},
   "outputs": [],
   "source": [
    "import json\n",
    "import pandas as pd\n",
    "import gzip\n",
    "import ast\n",
    "from datetime import datetime\n"
   ]
  },
  {
   "cell_type": "code",
   "execution_count": 2,
   "metadata": {},
   "outputs": [],
   "source": [
    "  def abrir_archivo_comprimido(nombre_archivo='Steam_games\\steam_games.json.gz'):  \n",
    "     try:\n",
    "        with gzip.open('steam_games','rt', encoding='utf-8') as archivo_comprimido:\n",
    "           datos=  json.load(archivo_comprimido)\n",
    "            # Convierto los datos JSON en un DataFrame de Pandas\n",
    "           \n",
    "        return dataframe\n",
    "       \n",
    "\n",
    "       # Añado un bloque try y except para manejar excepciones como FileNotFoundError y otros errores que puedan ocurrir al abrir el archivo.\n",
    "\n",
    "     except FileNotFoundError:\n",
    "        print(f\"El archivo '{steam_games}' no se encontró.\")\n",
    "     except Exception   as e:\n",
    "        print(f\"Error al abrir el archivo comprimido: {str(e)}\")\n",
    "  \n",
    "  # Llamada a la función para cargar el archivo comprimido  en un dataframe  DataFrame\n"
   ]
  },
  {
   "cell_type": "code",
   "execution_count": 3,
   "metadata": {},
   "outputs": [],
   "source": [
    "df_steam_games = pd.read_json(\"steam_games.json.gz\" , lines=True)"
   ]
  },
  {
   "cell_type": "code",
   "execution_count": 4,
   "metadata": {},
   "outputs": [
    {
     "name": "stdout",
     "output_type": "stream",
     "text": [
      "<class 'pandas.core.frame.DataFrame'>\n",
      "RangeIndex: 120445 entries, 0 to 120444\n",
      "Data columns (total 13 columns):\n",
      " #   Column        Non-Null Count  Dtype  \n",
      "---  ------        --------------  -----  \n",
      " 0   publisher     24083 non-null  object \n",
      " 1   genres        28852 non-null  object \n",
      " 2   app_name      32133 non-null  object \n",
      " 3   title         30085 non-null  object \n",
      " 4   url           32135 non-null  object \n",
      " 5   release_date  30068 non-null  object \n",
      " 6   tags          31972 non-null  object \n",
      " 7   reviews_url   32133 non-null  object \n",
      " 8   specs         31465 non-null  object \n",
      " 9   price         30758 non-null  object \n",
      " 10  early_access  32135 non-null  float64\n",
      " 11  id            32133 non-null  float64\n",
      " 12  developer     28836 non-null  object \n",
      "dtypes: float64(2), object(11)\n",
      "memory usage: 11.9+ MB\n"
     ]
    }
   ],
   "source": [
    "df_steam_games.info()"
   ]
  },
  {
   "cell_type": "code",
   "execution_count": null,
   "metadata": {},
   "outputs": [],
   "source": [
    "df_steam_games.head()"
   ]
  },
  {
   "cell_type": "code",
   "execution_count": 6,
   "metadata": {},
   "outputs": [
    {
     "data": {
      "text/plain": [
       "(120445, 13)"
      ]
     },
     "execution_count": 6,
     "metadata": {},
     "output_type": "execute_result"
    }
   ],
   "source": [
    "# encontrar tamaño inicial \n",
    "\n",
    "Tamaño_df_steam_games = df_steam_games.shape\n",
    "Tamaño_df_steam_games"
   ]
  },
  {
   "cell_type": "markdown",
   "metadata": {},
   "source": [
    "El metodo para eliminar filas o columnas en Drop\n",
    "index - la lista de filas a eliminar\n",
    "axis=0 - indica que son filas, y no columnas, lo que hay que eliminar  1 si son columnas\n",
    "inplace=True - realiza la operación sobre el mismo DataFrame, en lugar de crear y devolver uno nuevo.\n",
    "\n",
    "si se quiere eliminar ciertas filas o columnas\n",
    "df.drop(df.index[2:4], inplace=True)\n",
    "\n"
   ]
  },
  {
   "cell_type": "code",
   "execution_count": 7,
   "metadata": {},
   "outputs": [],
   "source": [
    "#eliminar la filas donde hay NAN y Nones\n",
    "\n",
    "df_steam_games_sinnulos = df_steam_games.dropna()"
   ]
  },
  {
   "cell_type": "code",
   "execution_count": 8,
   "metadata": {},
   "outputs": [
    {
     "data": {
      "text/plain": [
       "(22530, 13)"
      ]
     },
     "execution_count": 8,
     "metadata": {},
     "output_type": "execute_result"
    }
   ],
   "source": [
    "# Encuetro otra vez tamaño para saber cuantas filas se borraron\n",
    "Tamaño_df_steam_games_sinnulos = df_steam_games_sinnulos.shape\n",
    "Tamaño_df_steam_games_sinnulos\n",
    "\n",
    "#Osea que se eliminaron la siguiente cantidad de filas:\n",
    "\n",
    "#  120.445 - 22.530 = 97915"
   ]
  },
  {
   "cell_type": "code",
   "execution_count": null,
   "metadata": {},
   "outputs": [],
   "source": [
    "# reviso el df sin nulos\n",
    "df_steam_games_sinnulos.head()"
   ]
  },
  {
   "cell_type": "markdown",
   "metadata": {},
   "source": [
    "Ahora tengo que desanidar las celdas que vienen con una lista adentro y generar nuevas columnas con estos datos, lo haré con el metodo explode\n",
    "df_desanidado = df.explode('columna_lista')"
   ]
  },
  {
   "cell_type": "code",
   "execution_count": 10,
   "metadata": {},
   "outputs": [],
   "source": [
    "# Desanidar Columna Genres\n",
    "\n",
    "df_steam_games_sinnulos_desanidado_gen = df_steam_games_sinnulos.explode('genres')\n"
   ]
  },
  {
   "cell_type": "code",
   "execution_count": null,
   "metadata": {},
   "outputs": [],
   "source": [
    "df_steam_games_sinnulos_desanidado_gen.head()"
   ]
  },
  {
   "cell_type": "code",
   "execution_count": 12,
   "metadata": {},
   "outputs": [
    {
     "data": {
      "text/plain": [
       "(22530, 13)"
      ]
     },
     "execution_count": 12,
     "metadata": {},
     "output_type": "execute_result"
    }
   ],
   "source": [
    "#saco otra vez el tamaño pues me interesa saber cuantas filas aumentaron\n",
    "Tamaño_df_steam_games_sinnulos_desanidado_gen = df_steam_games_sinnulos.shape\n",
    "Tamaño_df_steam_games_sinnulos_desanidado_gen\n",
    "\n",
    "#veo que el tamaño es 55.612 osea que aumento\n",
    "#55.612-22530 = 33082\n"
   ]
  },
  {
   "cell_type": "code",
   "execution_count": 13,
   "metadata": {},
   "outputs": [],
   "source": [
    "#ahora exploto la columna speces\n",
    "df_steam_games_sinnulos_desanidado_gen_sp = df_steam_games_sinnulos_desanidado_gen.explode('specs')"
   ]
  },
  {
   "cell_type": "code",
   "execution_count": null,
   "metadata": {},
   "outputs": [],
   "source": [
    "df_steam_games_sinnulos_desanidado_gen_sp.head()"
   ]
  },
  {
   "cell_type": "code",
   "execution_count": 15,
   "metadata": {},
   "outputs": [
    {
     "data": {
      "text/plain": [
       "(239386, 13)"
      ]
     },
     "execution_count": 15,
     "metadata": {},
     "output_type": "execute_result"
    }
   ],
   "source": [
    "#saco otra vez el tamaño pues me interesa saber cuantas filas aumentaron\n",
    "Tamaño_df_steam_games_sinnulos_desanidado_gen_sp = df_steam_games_sinnulos_desanidado_gen_sp.shape\n",
    "Tamaño_df_steam_games_sinnulos_desanidado_gen_sp\n",
    "\n",
    "#las filas no aumentaron concluyo que venia una lista un una sola fila por pelicula asi estuviera en lista"
   ]
  },
  {
   "cell_type": "code",
   "execution_count": 16,
   "metadata": {},
   "outputs": [],
   "source": [
    "# Veo que la columna Tags tiene la misma info que la columna genres entonces borro tags\n",
    "df_steam_games_sinnulos_desanidado_gen_sp.drop('tags', axis=1, inplace=True)"
   ]
  },
  {
   "cell_type": "code",
   "execution_count": null,
   "metadata": {},
   "outputs": [],
   "source": [
    "df_steam_games_sinnulos_desanidado_gen_sp"
   ]
  },
  {
   "cell_type": "code",
   "execution_count": null,
   "metadata": {},
   "outputs": [],
   "source": [
    "df_steam_games_sinnulos_desanidado_gen_sp.head()"
   ]
  },
  {
   "cell_type": "code",
   "execution_count": null,
   "metadata": {},
   "outputs": [],
   "source": [
    "df_steam_games_sinnulos_desanidado_gen_sp.info()"
   ]
  },
  {
   "cell_type": "code",
   "execution_count": 20,
   "metadata": {},
   "outputs": [
    {
     "data": {
      "text/plain": [
       "dtype('O')"
      ]
     },
     "execution_count": 20,
     "metadata": {},
     "output_type": "execute_result"
    }
   ],
   "source": [
    "tipo_de_datos = df_steam_games_sinnulos_desanidado_gen_sp['release_date'].dtype\n",
    "tipo_de_datos"
   ]
  },
  {
   "cell_type": "code",
   "execution_count": 21,
   "metadata": {},
   "outputs": [],
   "source": [
    "df_steam_games_sinnulos_desanidado_gen_sp['release_date'] = pd.to_datetime(df_steam_games_sinnulos_desanidado_gen_sp['release_date'], errors='coerce')\n"
   ]
  },
  {
   "cell_type": "markdown",
   "metadata": {},
   "source": [
    "Se uso en la transformación de fecha  errors='coerce'\n",
    "Cuando estás trabajando con datos, a veces pueden haber valores que no son válidos o que no se pueden manejar correctamente en ciertas operaciones. Por ejemplo, al convertir datos de un tipo a otro, como convertir cadenas de texto a números, puede surgir un problema si algunos valores no son números válidos.\n"
   ]
  },
  {
   "cell_type": "code",
   "execution_count": null,
   "metadata": {},
   "outputs": [],
   "source": [
    "df_steam_games_sinnulos_desanidado_gen_sp.info()\n",
    "#se puede ver que el tipo de datos es datetime64[ns]"
   ]
  },
  {
   "cell_type": "code",
   "execution_count": 23,
   "metadata": {},
   "outputs": [],
   "source": [
    "# tengo que asegurarme que toda la fila release_date tenga formato fecha  y que sea el mismo formato, primero tengo que ver que tipo de datos es\n",
    "#es object \n",
    "\n",
    "df_steam_games_sinnulos_desanidado_gen_sp['release_date'] = pd.to_datetime(df_steam_games_sinnulos_desanidado_gen_sp['release_date'])"
   ]
  },
  {
   "cell_type": "code",
   "execution_count": 24,
   "metadata": {},
   "outputs": [],
   "source": [
    "# Ahora voy a hacer una columna nueva con el año para lo que se usa\n",
    "# el método .dt junto con el atributo year\n",
    "\n",
    "df_steam_games_sinnulos_desanidado_gen_sp['release_year'] = df_steam_games_sinnulos_desanidado_gen_sp['release_date'].dt.year"
   ]
  },
  {
   "cell_type": "code",
   "execution_count": null,
   "metadata": {},
   "outputs": [],
   "source": [
    "df_steam_games_sinnulos_desanidado_gen_sp.head()"
   ]
  },
  {
   "cell_type": "code",
   "execution_count": 26,
   "metadata": {},
   "outputs": [
    {
     "data": {
      "text/plain": [
       "dtype('float64')"
      ]
     },
     "execution_count": 26,
     "metadata": {},
     "output_type": "execute_result"
    }
   ],
   "source": [
    "# Reviso tipo de datos columna Released year por que se ve con punto\n",
    "tipo_de_datos = df_steam_games_sinnulos_desanidado_gen_sp['release_year'].dtype\n",
    "tipo_de_datos"
   ]
  },
  {
   "cell_type": "code",
   "execution_count": null,
   "metadata": {},
   "outputs": [],
   "source": [
    "df_steam_games_sinnulos_desanidado_gen_sp.head()"
   ]
  },
  {
   "cell_type": "code",
   "execution_count": 28,
   "metadata": {},
   "outputs": [],
   "source": [
    "# Cambio el nombre por df_steam_games_limpio\n",
    "\n",
    "df_steam_limpio = df_steam_games_sinnulos_desanidado_gen_sp\n"
   ]
  },
  {
   "cell_type": "code",
   "execution_count": null,
   "metadata": {},
   "outputs": [],
   "source": [
    "df_steam_limpio.head()"
   ]
  }
 ],
 "metadata": {
  "kernelspec": {
   "display_name": "Python 3",
   "language": "python",
   "name": "python3"
  },
  "language_info": {
   "codemirror_mode": {
    "name": "ipython",
    "version": 3
   },
   "file_extension": ".py",
   "mimetype": "text/x-python",
   "name": "python",
   "nbconvert_exporter": "python",
   "pygments_lexer": "ipython3",
   "version": "3.11.1"
  }
 },
 "nbformat": 4,
 "nbformat_minor": 2
}
