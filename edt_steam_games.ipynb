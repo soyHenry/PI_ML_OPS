{
 "cells": [
  {
   "cell_type": "markdown",
   "metadata": {},
   "source": [
    "La primera tarea es la extracción osea dejar los datos a la vista para eso debo hace una función.\n",
    "el primer archivo esta en Json y esta comprimido extension GZ. busco en chat gpt como se abren archivos extension .json.gz\n",
    "\n",
    "La dirección del archivo que quiero extraer es\n",
    "\"C:\\Users\\Usuario\\Henry\\PI01MLOPnuevo\\Dataset Original\\steam_games.json.gz\"\n"
   ]
  },
  {
   "cell_type": "code",
   "execution_count": 83,
   "metadata": {},
   "outputs": [],
   "source": [
    "import json\n",
    "import pandas as pd\n",
    "import gzip\n",
    "import ast\n",
    "from datetime import datetime\n"
   ]
  },
  {
   "cell_type": "code",
   "execution_count": 84,
   "metadata": {},
   "outputs": [],
   "source": [
    "  def abrir_archivo_comprimido(nombre_archivo='Steam_games\\steam_games.json.gz'):  \n",
    "     try:\n",
    "        with gzip.open('steam_games','rt', encoding='utf-8') as archivo_comprimido:\n",
    "           datos=  json.load(archivo_comprimido)\n",
    "            # Convierto los datos JSON en un DataFrame de Pandas\n",
    "           \n",
    "        return dataframe\n",
    "       \n",
    "\n",
    "       # Añado un bloque try y except para manejar excepciones como FileNotFoundError y otros errores que puedan ocurrir al abrir el archivo.\n",
    "\n",
    "     except FileNotFoundError:\n",
    "        print(f\"El archivo '{steam_games}' no se encontró.\")\n",
    "     except Exception   as e:\n",
    "        print(f\"Error al abrir el archivo comprimido: {str(e)}\")\n",
    "  \n",
    "  # Llamada a la función para cargar el archivo comprimido  en un dataframe  DataFrame\n"
   ]
  },
  {
   "cell_type": "code",
   "execution_count": 85,
   "metadata": {},
   "outputs": [],
   "source": [
    "df_steam_games = pd.read_json(\"steam_games.json.gz\" , lines=True)"
   ]
  },
  {
   "cell_type": "code",
   "execution_count": null,
   "metadata": {},
   "outputs": [],
   "source": [
    "df_steam_games.info()"
   ]
  },
  {
   "cell_type": "code",
   "execution_count": null,
   "metadata": {},
   "outputs": [],
   "source": [
    "df_steam_games.head()"
   ]
  },
  {
   "cell_type": "code",
   "execution_count": 88,
   "metadata": {},
   "outputs": [
    {
     "data": {
      "text/plain": [
       "(120445, 13)"
      ]
     },
     "execution_count": 88,
     "metadata": {},
     "output_type": "execute_result"
    }
   ],
   "source": [
    "# encontrar tamaño inicial \n",
    "\n",
    "Tamaño_df_steam_games = df_steam_games.shape\n",
    "Tamaño_df_steam_games"
   ]
  },
  {
   "cell_type": "markdown",
   "metadata": {},
   "source": [
    "El metodo para eliminar filas o columnas en Drop\n",
    "index - la lista de filas a eliminar\n",
    "axis=0 - indica que son filas, y no columnas, lo que hay que eliminar  1 si son columnas\n",
    "inplace=True - realiza la operación sobre el mismo DataFrame, en lugar de crear y devolver uno nuevo.\n",
    "\n",
    "si se quiere eliminar ciertas filas o columnas\n",
    "df.drop(df.index[2:4], inplace=True)\n",
    "\n"
   ]
  },
  {
   "cell_type": "code",
   "execution_count": 89,
   "metadata": {},
   "outputs": [],
   "source": [
    "#eliminar la filas donde hay NAN y Nones\n",
    "\n",
    "df_steam_games_sinnulos = df_steam_games.dropna()"
   ]
  },
  {
   "cell_type": "code",
   "execution_count": 90,
   "metadata": {},
   "outputs": [
    {
     "data": {
      "text/plain": [
       "(22530, 13)"
      ]
     },
     "execution_count": 90,
     "metadata": {},
     "output_type": "execute_result"
    }
   ],
   "source": [
    "# Encuetro otra vez tamaño para saber cuantas filas se borraron\n",
    "Tamaño_df_steam_games_sinnulos = df_steam_games_sinnulos.shape\n",
    "Tamaño_df_steam_games_sinnulos\n",
    "\n",
    "#Osea que se eliminaron la siguiente cantidad de filas:\n",
    "\n",
    "#  120.445 - 22.530 = 97915"
   ]
  },
  {
   "cell_type": "code",
   "execution_count": null,
   "metadata": {},
   "outputs": [],
   "source": [
    "# reviso el df sin nulos\n",
    "df_steam_games_sinnulos.info()"
   ]
  },
  {
   "cell_type": "code",
   "execution_count": 92,
   "metadata": {},
   "outputs": [],
   "source": [
    "# Dejo el nombre df_steam_games, para que corra en el futuro facil\n",
    "\n",
    "df_steam_games = df_steam_games_sinnulos \n"
   ]
  },
  {
   "cell_type": "code",
   "execution_count": null,
   "metadata": {},
   "outputs": [],
   "source": [
    "df_steam_games.head()"
   ]
  },
  {
   "cell_type": "code",
   "execution_count": null,
   "metadata": {},
   "outputs": [],
   "source": [
    "#borro de una vez las columnas que no me sirven\n",
    "#publisher\tgenres\tapp_name\ttitle\turl\trelease_date\ttags\treviews_url\tspecs\tprice\tearly_access\tid\tdeveloper\n",
    "\n",
    "#df_steam_games = df_steam_games.drop('url')\n",
    "#df_users_items_concatenado = df_users_items_concatenado.drop(columns=columnas_a_borrar)"
   ]
  },
  {
   "cell_type": "code",
   "execution_count": null,
   "metadata": {},
   "outputs": [],
   "source": [
    "df_steam_games"
   ]
  },
  {
   "cell_type": "markdown",
   "metadata": {},
   "source": [
    "Ahora tengo que desanidar las celdas que vienen con una lista adentro y generar nuevas columnas con estos datos, lo haré con el metodo explode\n",
    "df_desanidado = df.explode('columna_lista')"
   ]
  },
  {
   "cell_type": "code",
   "execution_count": 95,
   "metadata": {},
   "outputs": [],
   "source": [
    "# Desanidar Columna Genres\n",
    "\n",
    "df_steam_games_desanidado_gen = df_steam_games.explode('genres')\n"
   ]
  },
  {
   "cell_type": "code",
   "execution_count": null,
   "metadata": {},
   "outputs": [],
   "source": [
    "df_steam_games_desanidado_gen.head()"
   ]
  },
  {
   "cell_type": "code",
   "execution_count": 97,
   "metadata": {},
   "outputs": [
    {
     "data": {
      "text/plain": [
       "(55612, 13)"
      ]
     },
     "execution_count": 97,
     "metadata": {},
     "output_type": "execute_result"
    }
   ],
   "source": [
    "#saco otra vez el tamaño pues me interesa saber cuantas filas aumentaron\n",
    "Tamaño_df_steam_games_desanidado_gen = df_steam_games_desanidado_gen .shape\n",
    "Tamaño_df_steam_games_desanidado_gen\n",
    "\n",
    "#veo que el tamaño es 55.612 osea que aumento\n",
    "#55.612-22530 = 33082\n"
   ]
  },
  {
   "cell_type": "code",
   "execution_count": null,
   "metadata": {},
   "outputs": [],
   "source": [
    "df_steam_games_desanidado_gen.head()"
   ]
  },
  {
   "cell_type": "code",
   "execution_count": 99,
   "metadata": {},
   "outputs": [],
   "source": [
    "#vuelvo a borrar nulos por que la desanidada genero muchos\n",
    "\n",
    "df_steam_games_desanidado_gen = df_steam_games_desanidado_gen.dropna()"
   ]
  },
  {
   "cell_type": "code",
   "execution_count": 100,
   "metadata": {},
   "outputs": [],
   "source": [
    "# Le dejo el nombre original\n",
    "\n",
    "df_steam_games = df_steam_games_desanidado_gen"
   ]
  },
  {
   "cell_type": "code",
   "execution_count": null,
   "metadata": {},
   "outputs": [],
   "source": [
    "df_steam_games"
   ]
  },
  {
   "cell_type": "code",
   "execution_count": null,
   "metadata": {},
   "outputs": [],
   "source": [
    "df_steam_games.head()"
   ]
  },
  {
   "cell_type": "code",
   "execution_count": 68,
   "metadata": {},
   "outputs": [],
   "source": [
    "# Desanido columna Tags  por que aunque es info repetida la necesito para la función que voy a necesitar para la función\n",
    "# Pero sube mucho el tamaño, lo voy a borrar y trabajo solo con genres\n",
    "df_steam_games_desanidado_tags = df_steam_games.explode('tags')\n"
   ]
  },
  {
   "cell_type": "code",
   "execution_count": null,
   "metadata": {},
   "outputs": [],
   "source": [
    "df_steam_games_desanidado_tags"
   ]
  },
  {
   "cell_type": "code",
   "execution_count": 104,
   "metadata": {},
   "outputs": [],
   "source": [
    "df_steam_games = df_steam_games_desanidado_tags"
   ]
  },
  {
   "cell_type": "code",
   "execution_count": null,
   "metadata": {},
   "outputs": [],
   "source": [
    "df_steam_games"
   ]
  },
  {
   "cell_type": "code",
   "execution_count": null,
   "metadata": {},
   "outputs": [],
   "source": [
    "df_steam_games.info()"
   ]
  },
  {
   "cell_type": "code",
   "execution_count": 109,
   "metadata": {},
   "outputs": [],
   "source": [
    "#borro todas las columnas que no necesito\n",
    "columnas_a_borrar = ['publisher','reviews_url','price','url','early_access','id','developer','specs']\n",
    "df_steam_games = df_steam_games.drop(columns=columnas_a_borrar)"
   ]
  },
  {
   "cell_type": "code",
   "execution_count": null,
   "metadata": {},
   "outputs": [],
   "source": [
    "df_steam_games.info()"
   ]
  },
  {
   "cell_type": "code",
   "execution_count": null,
   "metadata": {},
   "outputs": [],
   "source": [
    "df_steam_games"
   ]
  },
  {
   "cell_type": "code",
   "execution_count": 26,
   "metadata": {},
   "outputs": [],
   "source": [
    "#Borro tags que tiene la misma info que genres\n",
    "#No puedo por que lo voy a necesitar para la función, antes toca desanidarlo para igualarlo a app_name en la función\n",
    "#df_steam_games.drop('tags', axis=1, inplace=True)"
   ]
  },
  {
   "cell_type": "code",
   "execution_count": 112,
   "metadata": {},
   "outputs": [
    {
     "data": {
      "text/plain": [
       "dtype('O')"
      ]
     },
     "execution_count": 112,
     "metadata": {},
     "output_type": "execute_result"
    }
   ],
   "source": [
    "tipo_de_datos = df_steam_games['release_date'].dtype\n",
    "tipo_de_datos"
   ]
  },
  {
   "cell_type": "code",
   "execution_count": 113,
   "metadata": {},
   "outputs": [],
   "source": [
    "df_steam_games['release_date'] = pd.to_datetime(df_steam_games['release_date'], errors='coerce')\n"
   ]
  },
  {
   "cell_type": "markdown",
   "metadata": {},
   "source": [
    "Se uso en la transformación de fecha  errors='coerce'\n",
    "Cuando estás trabajando con datos, a veces pueden haber valores que no son válidos o que no se pueden manejar correctamente en ciertas operaciones. Por ejemplo, al convertir datos de un tipo a otro, como convertir cadenas de texto a números, puede surgir un problema si algunos valores no son números válidos.\n"
   ]
  },
  {
   "cell_type": "code",
   "execution_count": 114,
   "metadata": {},
   "outputs": [],
   "source": [
    "# tengo que asegurarme que toda la fila release_date tenga formato fecha  y que sea el mismo formato, primero tengo que ver que tipo de datos es\n",
    "#es object \n",
    "\n",
    "df_steam_games['release_date'] = pd.to_datetime(df_steam_games['release_date'])"
   ]
  },
  {
   "cell_type": "code",
   "execution_count": 115,
   "metadata": {},
   "outputs": [
    {
     "name": "stdout",
     "output_type": "stream",
     "text": [
      "Tipo de dato de la columna \"released_date\": datetime64[ns]\n"
     ]
    }
   ],
   "source": [
    "#reviso el tipo de dato de release_date\n",
    "tipo_dato_date = df_steam_games['release_date'].dtype\n",
    "print(f'Tipo de dato de la columna \"released_date\": {tipo_dato_date}')\n"
   ]
  },
  {
   "cell_type": "code",
   "execution_count": 116,
   "metadata": {},
   "outputs": [],
   "source": [
    "# Ahora voy a hacer una columna nueva con el año para lo que se usa\n",
    "# el método .dt junto con el atributo year\n",
    "\n",
    "df_steam_games['release_year'] = df_steam_games['release_date'].dt.year"
   ]
  },
  {
   "cell_type": "code",
   "execution_count": null,
   "metadata": {},
   "outputs": [],
   "source": [
    "df_steam_games.head()"
   ]
  },
  {
   "cell_type": "code",
   "execution_count": 82,
   "metadata": {},
   "outputs": [
    {
     "data": {
      "text/plain": [
       "dtype('float64')"
      ]
     },
     "execution_count": 82,
     "metadata": {},
     "output_type": "execute_result"
    }
   ],
   "source": [
    "# Reviso tipo de datos columna Released year por que se ve con punto\n",
    "tipo_de_datos = df_steam_games['release_year'].dtype\n",
    "tipo_de_datos"
   ]
  },
  {
   "cell_type": "code",
   "execution_count": null,
   "metadata": {},
   "outputs": [],
   "source": [
    "df_steam_games.info()"
   ]
  },
  {
   "cell_type": "code",
   "execution_count": 119,
   "metadata": {},
   "outputs": [],
   "source": [
    "# Guardo dataframe listo para utilizar la función en json\n",
    "df_steam_games.to_json('df_steam_games.json',orient=\"records\")"
   ]
  }
 ],
 "metadata": {
  "kernelspec": {
   "display_name": "Python 3",
   "language": "python",
   "name": "python3"
  },
  "language_info": {
   "codemirror_mode": {
    "name": "ipython",
    "version": 3
   },
   "file_extension": ".py",
   "mimetype": "text/x-python",
   "name": "python",
   "nbconvert_exporter": "python",
   "pygments_lexer": "ipython3",
   "version": "3.11.1"
  }
 },
 "nbformat": 4,
 "nbformat_minor": 2
}
