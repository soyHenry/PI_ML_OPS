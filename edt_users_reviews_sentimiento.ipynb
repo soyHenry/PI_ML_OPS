{
 "cells": [
  {
   "cell_type": "code",
   "execution_count": null,
   "metadata": {},
   "outputs": [],
   "source": [
    "pip install textblob "
   ]
  },
  {
   "cell_type": "code",
   "execution_count": 2,
   "metadata": {},
   "outputs": [],
   "source": [
    "import json\n",
    "import pandas as pd\n",
    "import gzip\n",
    "import ast\n",
    "from datetime import datetime\n",
    "import csv\n",
    "import time\n",
    "import string\n",
    "from textblob import TextBlob"
   ]
  },
  {
   "cell_type": "code",
   "execution_count": 3,
   "metadata": {},
   "outputs": [],
   "source": [
    "# Desarrollo función leer_Json_gzip() que lee los archivos 'comprimidos.json.gz` y devuelve una lista de diccionarios Python.\n",
    "def leer_json_gzip(user_reviews):\n",
    "\n",
    "    # Abrir el archivo users_items.json.gz en modo de lectura y decodificamos el contenido del archivo.\n",
    "    with gzip.open(user_reviews, 'rt', encoding='utf-8') as miArchivo:\n",
    "\n",
    "        # Recorremos el contenido del archivo y evaluamos cada línea como una expresión Python.\n",
    "        # El resultado de la evaluación es un diccionario Python.\n",
    "        # La función strip() elimina los espacios en blanco al principio y al final de la línea.\n",
    "        return [ast.literal_eval(line.strip()) for line in miArchivo]\n",
    "    #Usamos ast.literal_eval para convertir cada linea en un diccionario y lo agregamos a la lista"
   ]
  },
  {
   "cell_type": "markdown",
   "metadata": {},
   "source": [
    "ast.literal_eval es necesario porque los datos en el archivo parecen estar en formato JSON pero almacenados como cadenas en lugar de objetos de Python. literal_eval es más seguro que eval ya que solo evalúa expresiones literales de Python y evita la ejecución de código malicioso."
   ]
  },
  {
   "cell_type": "code",
   "execution_count": null,
   "metadata": {},
   "outputs": [],
   "source": [
    "datos = []\n",
    "for i  in gzip.open('user_reviews.json.gz'):\n",
    "    datos.append(ast.literal_eval(i.decode('utf-8')))\n",
    "\n",
    "df_user_reviews= pd.DataFrame(datos)\n",
    "\n",
    "df_user_reviews"
   ]
  },
  {
   "cell_type": "code",
   "execution_count": 5,
   "metadata": {},
   "outputs": [
    {
     "data": {
      "text/plain": [
       "(25799, 3)"
      ]
     },
     "execution_count": 5,
     "metadata": {},
     "output_type": "execute_result"
    }
   ],
   "source": [
    "tamaño_df_user_reviews=df_user_reviews.shape\n",
    "tamaño_df_user_reviews"
   ]
  },
  {
   "cell_type": "code",
   "execution_count": null,
   "metadata": {},
   "outputs": [],
   "source": [
    "df_user_reviews.head()"
   ]
  },
  {
   "cell_type": "code",
   "execution_count": null,
   "metadata": {},
   "outputs": [],
   "source": [
    "# Lo primero es explotar la columna reviews y posterior se desanida normalizandola\n",
    "\n",
    "df_user_reviews_exploded = df_user_reviews.explode('reviews').dropna()\n",
    "\n",
    "df_user_reviews_exploded.head()"
   ]
  },
  {
   "cell_type": "code",
   "execution_count": null,
   "metadata": {},
   "outputs": [],
   "source": [
    "df_user_reviews_exploded.info()"
   ]
  },
  {
   "cell_type": "code",
   "execution_count": null,
   "metadata": {},
   "outputs": [],
   "source": [
    "df_user_reviews_exploded['reviews'].astype(str)"
   ]
  },
  {
   "cell_type": "code",
   "execution_count": null,
   "metadata": {},
   "outputs": [],
   "source": [
    "df_user_reviews_exploded.head()\n",
    "#El tipo sigue siendo object pero continuo"
   ]
  },
  {
   "cell_type": "code",
   "execution_count": 12,
   "metadata": {},
   "outputs": [
    {
     "data": {
      "text/plain": [
       "(59305, 3)"
      ]
     },
     "execution_count": 12,
     "metadata": {},
     "output_type": "execute_result"
    }
   ],
   "source": [
    "tamaño_df_user_reviews_exploded = df_user_reviews_exploded.shape\n",
    "tamaño_df_user_reviews_exploded"
   ]
  },
  {
   "cell_type": "markdown",
   "metadata": {},
   "source": [
    "La función normalize se utiliza para aplanar datos JSON anidados en un DataFrame. Cuando se trabaja con datos JSON que tienen estructuras anidadas (como diccionarios dentro de diccionarios), json_normalize() ayuda a convertir esos datos en un formato tabular que es más fácil de trabajar con pandas."
   ]
  },
  {
   "cell_type": "code",
   "execution_count": 13,
   "metadata": {},
   "outputs": [],
   "source": [
    "df_user_reviews_desanidado = pd.json_normalize(df_user_reviews_exploded['reviews'])"
   ]
  },
  {
   "cell_type": "code",
   "execution_count": 14,
   "metadata": {},
   "outputs": [
    {
     "data": {
      "text/plain": [
       "(59305, 7)"
      ]
     },
     "execution_count": 14,
     "metadata": {},
     "output_type": "execute_result"
    }
   ],
   "source": [
    "df_user_reviews_desanidado.shape\n",
    "#se mantiene el mismo tamaño"
   ]
  },
  {
   "cell_type": "code",
   "execution_count": null,
   "metadata": {},
   "outputs": [],
   "source": [
    "df_user_reviews_desanidado.head()\n",
    "#la clase es pandas pero en esa clase no hay metodos concomo drop, toca pasarlo a str"
   ]
  },
  {
   "cell_type": "code",
   "execution_count": 16,
   "metadata": {},
   "outputs": [],
   "source": [
    "#borro columna last_edited \n",
    "\n",
    "df_user_reviews_desanidado = df_user_reviews_desanidado.drop('last_edited', axis=1)"
   ]
  },
  {
   "cell_type": "code",
   "execution_count": 17,
   "metadata": {},
   "outputs": [],
   "source": [
    "df_user_reviews_desanidado.reset_index(inplace=True)"
   ]
  },
  {
   "cell_type": "code",
   "execution_count": null,
   "metadata": {},
   "outputs": [],
   "source": [
    "df_user_reviews_desanidado.head()"
   ]
  },
  {
   "cell_type": "code",
   "execution_count": null,
   "metadata": {},
   "outputs": [],
   "source": [
    "df_user_reviews_desanidado"
   ]
  },
  {
   "cell_type": "code",
   "execution_count": 20,
   "metadata": {},
   "outputs": [],
   "source": [
    "# De una vez borro nullen el df sin desanidar , pero no disminuyo en nada, así que borro los duplicados"
   ]
  },
  {
   "cell_type": "code",
   "execution_count": 21,
   "metadata": {},
   "outputs": [],
   "source": [
    "df_user_reviews = df_user_reviews.dropna()"
   ]
  },
  {
   "cell_type": "code",
   "execution_count": 22,
   "metadata": {},
   "outputs": [],
   "source": [
    "#concateno el df inicial con el exploded\n",
    "df_user_reviews_sentimiento = pd.concat([df_user_reviews, df_user_reviews_desanidado], axis=1)"
   ]
  },
  {
   "cell_type": "code",
   "execution_count": null,
   "metadata": {},
   "outputs": [],
   "source": [
    "df_user_reviews_sentimiento.head()"
   ]
  },
  {
   "cell_type": "code",
   "execution_count": null,
   "metadata": {},
   "outputs": [],
   "source": [
    "df_user_reviews_sentimiento"
   ]
  },
  {
   "cell_type": "code",
   "execution_count": 25,
   "metadata": {},
   "outputs": [],
   "source": [
    "# borro columa funny que no tiene sentido, \n",
    "\n",
    "df_user_reviews_sentimiento = df_user_reviews_sentimiento.drop('funny', axis=1)"
   ]
  },
  {
   "cell_type": "markdown",
   "metadata": {},
   "source": [
    "En el dataset user_reviews se incluyen reseñas de juegos hechos por distintos usuarios. Debes crear la columna 'sentiment_analysis' \n",
    "aplicando análisis de sentimiento con NLP con la siguiente escala: debe tomar el valor '0' si es malo, '1' si es neutral \n",
    "y '2' si es positivo. Esta nueva columna debe reemplazar la de user_reviews.review para facilitar el trabajo de los modelos \n",
    "de machine learning y el análisis de datos. De no ser posible este análisis por estar ausente la reseña escrita, debe tomar el valor de 1"
   ]
  },
  {
   "cell_type": "markdown",
   "metadata": {},
   "source": [
    "def analizar_sentimiento(texto):\n",
    "    analysis = TextBlob(texto)\n",
    "    # Devuelve la polaridad del sentimiento (-1 a 1)\n",
    "    return analysis.sentiment.polarity\n",
    "\n",
    "    Aplica la función a la columna relevante de tu DataFrame:\n",
    "    df['Sentimiento'] = df['Texto'].apply(analizar_sentimiento)"
   ]
  },
  {
   "cell_type": "code",
   "execution_count": null,
   "metadata": {},
   "outputs": [],
   "source": [
    "df_user_reviews_sentimiento['review']"
   ]
  },
  {
   "cell_type": "markdown",
   "metadata": {},
   "source": [
    "def analizar_sentimiento(texto):\n",
    "    analysis = TextBlob(texto)\n",
    "    # Devuelve la polaridad del sentimiento (-1 a 1)\n",
    "    return analysis.sentiment.polarity\n",
    "\n",
    "    Aplica la función a la columna relevante de tu DataFrame:\n",
    "    df['Sentimiento'] = df['Texto'].apply(analizar_sentimiento)"
   ]
  },
  {
   "cell_type": "code",
   "execution_count": 27,
   "metadata": {},
   "outputs": [],
   "source": [
    "def analisis_sentimiento(Texto):\n",
    "    analisis = TextBlob(Texto)\n",
    "    if analisis.polarity>0:\n",
    "        return 2\n",
    "    elif analisis.polarity<0:\n",
    "        return 0\n",
    "    elif analisis.polarity==0:\n",
    "        return 1"
   ]
  },
  {
   "cell_type": "code",
   "execution_count": 28,
   "metadata": {},
   "outputs": [],
   "source": [
    "# Corro la función analisis_sentimiento que se creo sobe la columna review del data frame y lo reemplazo"
   ]
  },
  {
   "cell_type": "code",
   "execution_count": 28,
   "metadata": {},
   "outputs": [],
   "source": [
    "df_user_reviews_sentimiento['review'] = df_user_reviews_sentimiento['review'].apply(analisis_sentimiento)"
   ]
  },
  {
   "cell_type": "code",
   "execution_count": 29,
   "metadata": {},
   "outputs": [],
   "source": [
    "# Renombrar la columna\n",
    "df_user_reviews_sentimiento = df_user_reviews_sentimiento.rename(columns = {'review':'sentiment_analysis'})"
   ]
  },
  {
   "cell_type": "code",
   "execution_count": null,
   "metadata": {},
   "outputs": [],
   "source": [
    "df_user_reviews_sentimiento"
   ]
  },
  {
   "cell_type": "code",
   "execution_count": null,
   "metadata": {},
   "outputs": [],
   "source": [
    "df_user_reviews_sentimiento.info()"
   ]
  },
  {
   "cell_type": "code",
   "execution_count": 32,
   "metadata": {},
   "outputs": [],
   "source": [
    "df_user_reviews_sentimiento.to_json('df_user_reviews_sentimiento.json',orient='records')"
   ]
  }
 ],
 "metadata": {
  "kernelspec": {
   "display_name": "Python 3",
   "language": "python",
   "name": "python3"
  },
  "language_info": {
   "codemirror_mode": {
    "name": "ipython",
    "version": 3
   },
   "file_extension": ".py",
   "mimetype": "text/x-python",
   "name": "python",
   "nbconvert_exporter": "python",
   "pygments_lexer": "ipython3",
   "version": "3.11.1"
  }
 },
 "nbformat": 4,
 "nbformat_minor": 2
}
